{
  "nbformat": 4,
  "nbformat_minor": 0,
  "metadata": {
    "colab": {
      "name": "Make_a_neural_network.ipynb",
      "version": "0.3.2",
      "provenance": [],
      "include_colab_link": true
    },
    "kernelspec": {
      "name": "python3",
      "display_name": "Python 3"
    }
  },
  "cells": [
    {
      "cell_type": "markdown",
      "metadata": {
        "id": "view-in-github",
        "colab_type": "text"
      },
      "source": [
        "<a href=\"https://colab.research.google.com/github/chlin1/DeepLearning/blob/master/Make_a_neural_network.ipynb\" target=\"_parent\"><img src=\"https://colab.research.google.com/assets/colab-badge.svg\" alt=\"Open In Colab\"/></a>"
      ]
    },
    {
      "metadata": {
        "id": "YMMaA-FqQtN3",
        "colab_type": "text"
      },
      "cell_type": "markdown",
      "source": [
        "# Neural Net from scratch"
      ]
    },
    {
      "metadata": {
        "id": "e4y6iygyJ7hG",
        "colab_type": "code",
        "colab": {
          "base_uri": "https://localhost:8080/",
          "height": 199
        },
        "outputId": "da70fd1a-bac1-4095-ea28-3bc12d75859d"
      },
      "cell_type": "code",
      "source": [
        "from numpy import exp, array, random, dot\n",
        "\n",
        "\n",
        "class NeuralNetwork():\n",
        "    def __init__(self):\n",
        "        # Seed the random number generator, so it generates the same numbers\n",
        "        # every time the program runs.\n",
        "        random.seed(1)\n",
        "\n",
        "        # We model a single neuron, with 3 input connections and 1 output connection.\n",
        "        # We assign random weights to a 3 x 1 matrix, with values in the range -1 to 1\n",
        "        # and mean 0.\n",
        "        self.synaptic_weights = 2 * random.random((3, 1)) - 1\n",
        "\n",
        "    # The Sigmoid function, which describes an S shaped curve.\n",
        "    # We pass the weighted sum of the inputs through this function to\n",
        "    # normalise them between 0 and 1.\n",
        "    def __sigmoid(self, x):\n",
        "        return 1 / (1 + exp(-x))\n",
        "\n",
        "    # The derivative of the Sigmoid function.\n",
        "    # This is the gradient of the Sigmoid curve.\n",
        "    # It indicates how confident we are about the existing weight.\n",
        "    def __sigmoid_derivative(self, x):\n",
        "        return x * (1 - x)\n",
        "\n",
        "    # We train the neural network through a process of trial and error.\n",
        "    # Adjusting the synaptic weights each time.\n",
        "    def train(self, training_set_inputs, training_set_outputs, number_of_training_iterations):\n",
        "        for iteration in range(number_of_training_iterations):\n",
        "            # Pass the training set through our neural network (a single neuron).\n",
        "            output = self.think(training_set_inputs)\n",
        "\n",
        "            # Calculate the error (The difference between the desired output\n",
        "            # and the predicted output).\n",
        "            error = training_set_outputs - output\n",
        "\n",
        "            # Multiply the error by the input and again by the gradient of the Sigmoid curve.\n",
        "            # This means less confident weights are adjusted more.\n",
        "            # This means inputs, which are zero, do not cause changes to the weights.\n",
        "            adjustment = dot(training_set_inputs.T, error * self.__sigmoid_derivative(output))\n",
        "\n",
        "            # Adjust the weights.\n",
        "            self.synaptic_weights += adjustment\n",
        "\n",
        "    # The neural network thinks.\n",
        "    def think(self, inputs):\n",
        "        # Pass inputs through our neural network (our single neuron).\n",
        "        return self.__sigmoid(dot(inputs, self.synaptic_weights))\n",
        "\n",
        "\n",
        "if __name__ == \"__main__\":\n",
        "\n",
        "    #Intialise a single neuron neural network.\n",
        "    neural_network = NeuralNetwork()\n",
        "\n",
        "    print (\"Random starting synaptic weights: \")\n",
        "    print (neural_network.synaptic_weights)\n",
        "\n",
        "    # The training set. We have 4 examples, each consisting of 3 input values\n",
        "    # and 1 output value.\n",
        "    training_set_inputs = array([[0, 0, 1], [1, 1, 1], [1, 0, 1], [0, 1, 1]])\n",
        "    training_set_outputs = array([[0, 1, 1, 0]]).T\n",
        "\n",
        "    # Train the neural network using a training set.\n",
        "    # Do it 10,000 times and make small adjustments each time.\n",
        "    neural_network.train(training_set_inputs, training_set_outputs, 10000)\n",
        "\n",
        "    print (\"New synaptic weights after training: \")\n",
        "    print (neural_network.synaptic_weights)\n",
        "\n",
        "    # Test the neural network with a new situation.\n",
        "    print(\"Considering new situation [1, 0, 0] -> ?: \")\n",
        "    print(neural_network.think(array([1, 0, 0]))) "
      ],
      "execution_count": 6,
      "outputs": [
        {
          "output_type": "stream",
          "text": [
            "Random starting synaptic weights: \n",
            "[[-0.16595599]\n",
            " [ 0.44064899]\n",
            " [-0.99977125]]\n",
            "New synaptic weights after training: \n",
            "[[ 9.67299303]\n",
            " [-0.2078435 ]\n",
            " [-4.62963669]]\n",
            "Considering new situation [1, 0, 0] -> ?: \n",
            "[0.99993704]\n"
          ],
          "name": "stdout"
        }
      ]
    },
    {
      "metadata": {
        "id": "qVXnOtRPQnv_",
        "colab_type": "text"
      },
      "cell_type": "markdown",
      "source": [
        "# Example: XOR"
      ]
    },
    {
      "metadata": {
        "id": "4Pll6RQaORpt",
        "colab_type": "code",
        "colab": {
          "base_uri": "https://localhost:8080/",
          "height": 217
        },
        "outputId": "c2c17c44-289a-41a6-853e-4cb282c47394"
      },
      "cell_type": "code",
      "source": [
        "import numpy as np\n",
        "\n",
        "def nonlin(x, deriv=False):\n",
        "  if(deriv==True):\n",
        "    return x*(1-x)\n",
        "  \n",
        "  return 1/(1+np.exp(-x))\n",
        "\n",
        "# input data\n",
        "X = np.array([[0,0,1],[0,1,1],[1,0,1],[1,1,1]])\n",
        "\n",
        "# output data\n",
        "y = np.array([[0],[1],[1],[0]])\n",
        "\n",
        "np.random.seed(1)\n",
        "\n",
        "# synapses (weights)\n",
        "syn0 = 2*np.random.random((3,4)) - 1\n",
        "syn1 = 2*np.random.random((4,1)) - 1\n",
        "\n",
        "# traning step\n",
        "for j in range(60000):\n",
        "  \n",
        "  l0 = X\n",
        "  l1 = nonlin(np.dot(l0, syn0))\n",
        "  l2 = nonlin(np.dot(l1, syn1))\n",
        "  \n",
        "  l2_error = y - l2\n",
        "  \n",
        "  if(j % 10000) ==0:\n",
        "    print('Error:', str(np.mean(np.abs(l2_error))))\n",
        "    \n",
        "  l2_delta = l2_error * nonlin(l2, deriv = True)\n",
        "  \n",
        "  l1_error = l2_delta.dot(syn1.T)\n",
        "  \n",
        "  l1_delta = l1_error * nonlin(l1, deriv = True)\n",
        "  \n",
        "  # update weight\n",
        "  syn1 += l1.T.dot(l2_delta)\n",
        "  syn0 += l0.T.dot(l1_delta)\n",
        "  \n",
        "print('Output after training')\n",
        "print(l2)"
      ],
      "execution_count": 11,
      "outputs": [
        {
          "output_type": "stream",
          "text": [
            "Error: 0.4964100319027255\n",
            "Error: 0.008584525653247157\n",
            "Error: 0.0057894598625078085\n",
            "Error: 0.004629176776769985\n",
            "Error: 0.0039587652802736475\n",
            "Error: 0.003510122567861678\n",
            "Output after training\n",
            "[[0.00260572]\n",
            " [0.99672209]\n",
            " [0.99701711]\n",
            " [0.00386759]]\n"
          ],
          "name": "stdout"
        }
      ]
    },
    {
      "metadata": {
        "id": "XoDNOnesQ3FG",
        "colab_type": "text"
      },
      "cell_type": "markdown",
      "source": [
        "ref: https://github.com/llSourcell/Make_a_neural_network \\\n",
        "\n",
        "How to build a simple neural network in 9 lines of Python code\n",
        "https://medium.com/technology-invention-and-more/how-to-build-a-simple-neural-network-in-9-lines-of-python-code-cc8f23647ca1"
      ]
    },
    {
      "metadata": {
        "id": "qphCB2ATKIMg",
        "colab_type": "code",
        "colab": {}
      },
      "cell_type": "code",
      "source": [
        ""
      ],
      "execution_count": 0,
      "outputs": []
    }
  ]
}