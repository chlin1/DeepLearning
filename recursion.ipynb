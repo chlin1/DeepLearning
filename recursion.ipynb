{
  "nbformat": 4,
  "nbformat_minor": 0,
  "metadata": {
    "colab": {
      "name": "recursion.ipynb",
      "version": "0.3.2",
      "provenance": [],
      "collapsed_sections": [],
      "include_colab_link": true
    },
    "kernelspec": {
      "name": "python3",
      "display_name": "Python 3"
    }
  },
  "cells": [
    {
      "cell_type": "markdown",
      "metadata": {
        "id": "view-in-github",
        "colab_type": "text"
      },
      "source": [
        "<a href=\"https://colab.research.google.com/github/chlin1/test/blob/master/recursion.ipynb\" target=\"_parent\"><img src=\"https://colab.research.google.com/assets/colab-badge.svg\" alt=\"Open In Colab\"/></a>"
      ]
    },
    {
      "metadata": {
        "id": "EZnP6rHon-Ut",
        "colab_type": "text"
      },
      "cell_type": "markdown",
      "source": [
        "Recursion"
      ]
    },
    {
      "metadata": {
        "id": "OSftOPLUoV4Y",
        "colab_type": "text"
      },
      "cell_type": "markdown",
      "source": [
        "\n",
        "Examples\n",
        "\n",
        "\n",
        "1.   Factorial function\n",
        "2.   English ruler\n",
        "3.  Binary search\n",
        "4.  File system\n",
        "5.  Fibonacci number\n",
        "6. sum\n",
        "7. reverse a sequence\n",
        "8. power\n"
      ]
    },
    {
      "metadata": {
        "id": "V8BPxwj0t_5p",
        "colab_type": "text"
      },
      "cell_type": "markdown",
      "source": [
        "1. Fractorial function"
      ]
    },
    {
      "metadata": {
        "id": "kmODzOvLoslo",
        "colab_type": "code",
        "colab": {}
      },
      "cell_type": "code",
      "source": [
        "def factorial(n):\n",
        "  if n == 0:\n",
        "    return 1\n",
        "  else:\n",
        "    return n * factorial(n-1)"
      ],
      "execution_count": 0,
      "outputs": []
    },
    {
      "metadata": {
        "id": "T_iXmeinoepO",
        "colab_type": "code",
        "outputId": "5bf55267-8d87-4b1a-ea5d-d70837ed86ce",
        "colab": {
          "base_uri": "https://localhost:8080/",
          "height": 34
        }
      },
      "cell_type": "code",
      "source": [
        "factorial(4)"
      ],
      "execution_count": 0,
      "outputs": [
        {
          "output_type": "execute_result",
          "data": {
            "text/plain": [
              "24"
            ]
          },
          "metadata": {
            "tags": []
          },
          "execution_count": 7
        }
      ]
    },
    {
      "metadata": {
        "id": "SfMvMsytuDvO",
        "colab_type": "text"
      },
      "cell_type": "markdown",
      "source": [
        "2 English ruler"
      ]
    },
    {
      "metadata": {
        "id": "ugAPqt2YuGvx",
        "colab_type": "code",
        "colab": {
          "base_uri": "https://localhost:8080/",
          "height": 306
        },
        "outputId": "e095978b-4aa7-47d5-db25-c8a87b0701a0"
      },
      "cell_type": "code",
      "source": [
        "def draw_line(length, label=''):\n",
        "  '''draw one line with given length and optional label'''\n",
        "  line = '-' * length\n",
        "  if label:\n",
        "    line += '' + label\n",
        "  print(line)\n",
        "  \n",
        "def draw_interval(center):\n",
        "  \"\"\"draw tick with length center at the center and upper and lower intervals \n",
        "  each with center length = center -1\"\"\"\n",
        "  if center > 0:\n",
        "    draw_interval(center - 1)\n",
        "    draw_line(center)\n",
        "    draw_interval(center - 1)\n",
        "    \n",
        "def draw_ruler(num, major):\n",
        "  \"\"\"draw a ruler with a given number of inches: num\n",
        "  and major tick length: major\"\"\"\n",
        "  draw_line(major, '0')\n",
        "  for j in range(1 , 1+num):\n",
        "    draw_interval(major - 1)\n",
        "    draw_line(major, str(j))\n",
        "    \n",
        "draw_ruler(4,3)"
      ],
      "execution_count": 10,
      "outputs": [
        {
          "output_type": "stream",
          "text": [
            "---0\n",
            "-\n",
            "--\n",
            "-\n",
            "---1\n",
            "-\n",
            "--\n",
            "-\n",
            "---2\n",
            "-\n",
            "--\n",
            "-\n",
            "---3\n",
            "-\n",
            "--\n",
            "-\n",
            "---4\n"
          ],
          "name": "stdout"
        }
      ]
    },
    {
      "metadata": {
        "id": "1C4KyVtMzYFd",
        "colab_type": "code",
        "colab": {}
      },
      "cell_type": "code",
      "source": [
        ""
      ],
      "execution_count": 0,
      "outputs": []
    },
    {
      "metadata": {
        "id": "SBCkLckAzmaE",
        "colab_type": "text"
      },
      "cell_type": "markdown",
      "source": [
        "3 binary search\n",
        "\n",
        "input: a sorted sequence: data\n",
        "output: target\n",
        "\n",
        "Sequential search runs in O(n) time. \n",
        "Binary search runs in O(log n) time."
      ]
    },
    {
      "metadata": {
        "id": "yrxk_3g4z7ZJ",
        "colab_type": "code",
        "colab": {
          "base_uri": "https://localhost:8080/",
          "height": 51
        },
        "outputId": "8c339ea6-4500-4266-b50e-a25b80d17cdd"
      },
      "cell_type": "code",
      "source": [
        "def binary_search(data, target, low, high):\n",
        "  \"\"\"return True if target is found\n",
        "  low, high the starting and ending indices of the data\"\"\"\n",
        "  if low > high:\n",
        "    return False # empty interval returns False\n",
        "  else:\n",
        "    mid = (low + high)//2\n",
        "    if target == data[mid]:\n",
        "      return True\n",
        "    elif target < data[mid]:\n",
        "      return binary_search(data, target, low, mid - 1)\n",
        "    else:\n",
        "      return binary_search(data, target, mid + 1, high)\n",
        "    \n",
        "data0 = [2,3,4,5,6,9,12,15]\n",
        "target0 = 6\n",
        "target1 = 7\n",
        "print(binary_search(data0,target0,0,len(data0)-1))\n",
        "print(binary_search(data0,target1,0,len(data0)-1))"
      ],
      "execution_count": 21,
      "outputs": [
        {
          "output_type": "stream",
          "text": [
            "True\n",
            "False\n"
          ],
          "name": "stdout"
        }
      ]
    },
    {
      "metadata": {
        "id": "Hy-FGTBSblJz",
        "colab_type": "code",
        "colab": {
          "base_uri": "https://localhost:8080/",
          "height": 34
        },
        "outputId": "049c85df-7511-4eb8-ef8d-ce10f44a8720"
      },
      "cell_type": "code",
      "source": [
        "def binary_search1(data, target):\n",
        "  \"\"\"iterative bindary searching\"\"\"\n",
        "  low, high = 0, len(data)-1\n",
        "  while low<=high:\n",
        "    mid = (low+high)//2\n",
        "    if target == data[mid]:\n",
        "      return True\n",
        "    elif target < data[mid]:\n",
        "      high = mid-1\n",
        "    else:\n",
        "      low = mid+1\n",
        "      \n",
        "  return False\n",
        "\n",
        "data0 = [2,3,4,5,6,9,12,15]\n",
        "target0 = 6\n",
        "binary_search1(data0, target0)"
      ],
      "execution_count": 79,
      "outputs": [
        {
          "output_type": "execute_result",
          "data": {
            "text/plain": [
              "True"
            ]
          },
          "metadata": {
            "tags": []
          },
          "execution_count": 79
        }
      ]
    },
    {
      "metadata": {
        "id": "Q4cTyD8F4tOE",
        "colab_type": "text"
      },
      "cell_type": "markdown",
      "source": [
        "4 File systems\n"
      ]
    },
    {
      "metadata": {
        "id": "7UuJYiCO8fpS",
        "colab_type": "code",
        "colab": {}
      },
      "cell_type": "code",
      "source": [
        "import os\n",
        "\n",
        "def disk_usage(path):\n",
        "  \"\"\"return the used space\"\"\"\n",
        "  total = os.path.getsize(path) # return disk usage for the dir in that path\n",
        "  if os.path.isdir(path): # if this is a directory\n",
        "    for x in os.listdir(path): # return a list of child dir\n",
        "      childpath = os.path.join(path, x) # compose full path to child\n",
        "      total += disk_usage(childpath)\n",
        "      \n",
        "  print('{0:<7}'.format(total), path)\n",
        "  return total"
      ],
      "execution_count": 0,
      "outputs": []
    },
    {
      "metadata": {
        "id": "_FDiUaJYrcqh",
        "colab_type": "code",
        "colab": {
          "base_uri": "https://localhost:8080/",
          "height": 1904
        },
        "outputId": "b0096c01-e3da-49b7-c948-403152a6915b"
      },
      "cell_type": "code",
      "source": [
        "disk_usage('/bin')"
      ],
      "execution_count": 36,
      "outputs": [
        {
          "output_type": "stream",
          "text": [
            "18504   /bin/hostname\n",
            "141528  /bin/cp\n",
            "1910    /bin/zmore\n",
            "75992   /bin/stty\n",
            "133792  /bin/ls\n",
            "44664   /bin/su\n",
            "18504   /bin/dnsdomainname\n",
            "34888   /bin/bzip2\n",
            "84776   /bin/df\n",
            "3642    /bin/bzgrep\n",
            "1113504 /bin/rbash\n",
            "67768   /bin/mknod\n",
            "76000   /bin/dd\n",
            "35064   /bin/cat\n",
            "52664   /bin/login\n",
            "3642    /bin/bzegrep\n",
            "14408   /bin/mountpoint\n",
            "1937    /bin/zcat\n",
            "10104   /bin/tempfile\n",
            "4877    /bin/bzexe\n",
            "219528  /bin/grep\n",
            "1297    /bin/bzmore\n",
            "2301    /bin/gunzip\n",
            "133432  /bin/ps\n",
            "35032   /bin/uname\n",
            "121432  /bin/dash\n",
            "43192   /bin/rmdir\n",
            "1297    /bin/bzless\n",
            "30904   /bin/false\n",
            "423384  /bin/tar\n",
            "35000   /bin/sleep\n",
            "63704   /bin/rm\n",
            "88280   /bin/touch\n",
            "34888   /bin/bunzip2\n",
            "43088   /bin/mount\n",
            "2131    /bin/zforce\n",
            "34888   /bin/bzcat\n",
            "38952   /bin/more\n",
            "121432  /bin/sh\n",
            "28      /bin/egrep\n",
            "1777    /bin/zcmp\n",
            "5927    /bin/gzexe\n",
            "2301    /bin/uncompress\n",
            "43192   /bin/mktemp\n",
            "2037    /bin/zless\n",
            "5047    /bin/znew\n",
            "5938    /bin/zgrep\n",
            "35000   /bin/pwd\n",
            "137440  /bin/mv\n",
            "59608   /bin/chmod\n",
            "43192   /bin/readlink\n",
            "22608   /bin/pidof\n",
            "101560  /bin/gzip\n",
            "26704   /bin/kill\n",
            "109000  /bin/sed\n",
            "72000   /bin/dmesg\n",
            "35000   /bin/sync\n",
            "80056   /bin/mkdir\n",
            "3642    /bin/bzfgrep\n",
            "30800   /bin/wdctl\n",
            "64784   /bin/findmnt\n",
            "2140    /bin/bzcmp\n",
            "18760   /bin/run-parts\n",
            "67768   /bin/chown\n",
            "5764    /bin/zdiff\n",
            "30904   /bin/true\n",
            "18504   /bin/domainname\n",
            "140     /bin/zfgrep\n",
            "26696   /bin/umount\n",
            "14328   /bin/bzip2recover\n",
            "946     /bin/which\n",
            "140     /bin/zegrep\n",
            "18504   /bin/ypdomainname\n",
            "28      /bin/fgrep\n",
            "1113504 /bin/bash\n",
            "67808   /bin/ln\n",
            "35000   /bin/echo\n",
            "133792  /bin/dir\n",
            "18504   /bin/nisdomainname\n",
            "133792  /bin/vdir\n",
            "121432  /bin/sh.distrib\n",
            "84048   /bin/lsblk\n",
            "2140    /bin/bzdiff\n",
            "63672   /bin/chgrp\n",
            "100568  /bin/date\n",
            "18496   /bin/systemd-machine-id-setup\n",
            "10256   /bin/lessecho\n",
            "26696   /bin/systemd-tty-ask-password-agent\n",
            "84328   /bin/systemd-hwdb\n",
            "14416   /bin/systemd-inhibit\n",
            "584072  /bin/udevadm\n",
            "182352  /bin/systemctl\n",
            "8564    /bin/lesspipe\n",
            "43080   /bin/systemd-sysusers\n",
            "8564    /bin/lessfile\n",
            "14328   /bin/ulockmgr_server\n",
            "43080   /bin/networkctl\n",
            "149688  /bin/lsmod\n",
            "30800   /bin/fusermount\n",
            "1595792 /bin/systemd\n",
            "63576   /bin/journalctl\n",
            "51280   /bin/loginctl\n",
            "10320   /bin/systemd-ask-password\n",
            "14408   /bin/systemd-notify\n",
            "170760  /bin/less\n",
            "149688  /bin/kmod\n",
            "19856   /bin/lesskey\n",
            "71752   /bin/systemd-tmpfiles\n",
            "14400   /bin/systemd-escape\n",
            "9763501 /bin\n"
          ],
          "name": "stdout"
        },
        {
          "output_type": "execute_result",
          "data": {
            "text/plain": [
              "9763501"
            ]
          },
          "metadata": {
            "tags": []
          },
          "execution_count": 36
        }
      ]
    },
    {
      "metadata": {
        "id": "OfYB1Tj_Fr6K",
        "colab_type": "text"
      },
      "cell_type": "markdown",
      "source": [
        "5 Fibonacci number"
      ]
    },
    {
      "metadata": {
        "id": "NGaWq2w6Fu4s",
        "colab_type": "code",
        "colab": {}
      },
      "cell_type": "code",
      "source": [
        "def fib1(n):\n",
        "  if n<=1:\n",
        "    return n\n",
        "  else:\n",
        "    return fib1(n-1)+fib1(n-2)\n",
        "  \n",
        "def fib2(n):\n",
        "  # F(0)=0, F(1)=1, F(n)=F(n-1)+F(n-2)\n",
        "  if n<=1:\n",
        "    return (n,0) # return (F(n),F(n-1))\n",
        "  else:\n",
        "    (a,b) = fib2(n-1)\n",
        "    return (a+b, a)\n"
      ],
      "execution_count": 0,
      "outputs": []
    },
    {
      "metadata": {
        "id": "bcQ-jch0Iqrw",
        "colab_type": "code",
        "colab": {
          "base_uri": "https://localhost:8080/",
          "height": 51
        },
        "outputId": "78ef5571-e81c-4f15-db34-08bd108d8735"
      },
      "cell_type": "code",
      "source": [
        "from time import time \n",
        "\n",
        "\n",
        "start_time = time()\n",
        "fib1(30)\n",
        "end_time = time()\n",
        "elapsed = end_time - start_time\n",
        "print(elapsed)  \n",
        "  \n",
        "\n",
        "start_time = time()\n",
        "fib2(30)\n",
        "end_time = time()\n",
        "elapsed = end_time - start_time\n",
        "print(elapsed)  "
      ],
      "execution_count": 47,
      "outputs": [
        {
          "output_type": "stream",
          "text": [
            "0.4820683002471924\n",
            "5.221366882324219e-05\n"
          ],
          "name": "stdout"
        }
      ]
    },
    {
      "metadata": {
        "id": "1hMdpmmGIc5r",
        "colab_type": "code",
        "colab": {
          "base_uri": "https://localhost:8080/",
          "height": 34
        },
        "outputId": "401c8a4a-9d3f-45b7-d524-3e804a6a5f09"
      },
      "cell_type": "code",
      "source": [
        "import sys\n",
        "sys.getrecursionlimit()"
      ],
      "execution_count": 48,
      "outputs": [
        {
          "output_type": "execute_result",
          "data": {
            "text/plain": [
              "1000"
            ]
          },
          "metadata": {
            "tags": []
          },
          "execution_count": 48
        }
      ]
    },
    {
      "metadata": {
        "id": "2nWkM-D8diPX",
        "colab_type": "text"
      },
      "cell_type": "markdown",
      "source": [
        "6  sum"
      ]
    },
    {
      "metadata": {
        "id": "06ZoppcQKPpL",
        "colab_type": "code",
        "colab": {
          "base_uri": "https://localhost:8080/",
          "height": 34
        },
        "outputId": "481bfd4f-4fd2-4ad1-8fd1-bbaf277ee115"
      },
      "cell_type": "code",
      "source": [
        "def linear_sum(s, n):\n",
        "  # return sum of first n numbers of sequence s\n",
        "  # O(n) time\n",
        "  if n == 0:\n",
        "    return 0\n",
        "  else:\n",
        "    return linear_sum(s, n-1)+ s[n-1]\n",
        "  \n",
        "s0 = [x for x in range(11)]\n",
        "linear_sum(s0, len(s0))"
      ],
      "execution_count": 50,
      "outputs": [
        {
          "output_type": "execute_result",
          "data": {
            "text/plain": [
              "55"
            ]
          },
          "metadata": {
            "tags": []
          },
          "execution_count": 50
        }
      ]
    },
    {
      "metadata": {
        "id": "vAX2453FVRbW",
        "colab_type": "code",
        "colab": {
          "base_uri": "https://localhost:8080/",
          "height": 34
        },
        "outputId": "1b7e0986-6166-4c1c-8a10-49f48a44c1e7"
      },
      "cell_type": "code",
      "source": [
        "def binary_sum(s, start, stop):\n",
        "  # return sum of s[start, stop]\n",
        "  if start >= stop: return 0 # 0 element\n",
        "  elif start == stop -1: return s[start] # 1 element\n",
        "  else:\n",
        "    mid = (start+stop)//2\n",
        "    return binary_sum(s,start,mid)+binary_sum(s,mid,stop)\n",
        "  \n",
        "s0 = [x for x in range(11)]\n",
        "binary_sum(s0, 0, len(s0))"
      ],
      "execution_count": 82,
      "outputs": [
        {
          "output_type": "execute_result",
          "data": {
            "text/plain": [
              "55"
            ]
          },
          "metadata": {
            "tags": []
          },
          "execution_count": 82
        }
      ]
    },
    {
      "metadata": {
        "id": "gaQP9jHLdnNg",
        "colab_type": "text"
      },
      "cell_type": "markdown",
      "source": [
        "7 reverse a sequence"
      ]
    },
    {
      "metadata": {
        "id": "KlXhNtT-R-e0",
        "colab_type": "code",
        "colab": {
          "base_uri": "https://localhost:8080/",
          "height": 34
        },
        "outputId": "ee282a03-5567-46b1-eb7b-2d01aff73e6a"
      },
      "cell_type": "code",
      "source": [
        "def reverse(S, start, stop):\n",
        "  # reverse elements in the slice s[start:stop]\n",
        "  if start < (stop -1): # if at least 2 elements\n",
        "    S[start], S[stop-1] = S[stop-1], S[start]   \n",
        "    reverse(S,start+1, stop-1)\n",
        "  \n",
        " \n",
        "    \n",
        "s0 = [2,4,5]\n",
        "reverse(s0,0,len(s0))\n",
        "print(s0)"
      ],
      "execution_count": 76,
      "outputs": [
        {
          "output_type": "stream",
          "text": [
            "[5, 4, 2]\n"
          ],
          "name": "stdout"
        }
      ]
    },
    {
      "metadata": {
        "id": "_aEn3nGfcq9w",
        "colab_type": "code",
        "colab": {
          "base_uri": "https://localhost:8080/",
          "height": 34
        },
        "outputId": "8ede57fd-b16a-4795-dcbd-492ca1977d6c"
      },
      "cell_type": "code",
      "source": [
        "def reverse1(s):\n",
        "  start, stop = 0, len(s)\n",
        "  while start<stop-1:\n",
        "    s[start],s[stop-1]=s[stop-1],s[start]\n",
        "    start,stop=start+1, stop-1\n",
        "    \n",
        "s0 = [2,4,5]\n",
        "reverse1(s0)\n",
        "print(s0)"
      ],
      "execution_count": 80,
      "outputs": [
        {
          "output_type": "stream",
          "text": [
            "[5, 4, 2]\n"
          ],
          "name": "stdout"
        }
      ]
    },
    {
      "metadata": {
        "id": "lH2S4Iy2duKm",
        "colab_type": "text"
      },
      "cell_type": "markdown",
      "source": [
        "8 power"
      ]
    },
    {
      "metadata": {
        "id": "1NXn6coDS_Hq",
        "colab_type": "code",
        "colab": {
          "base_uri": "https://localhost:8080/",
          "height": 51
        },
        "outputId": "7af82f72-56ef-4146-b6c6-5669a7038446"
      },
      "cell_type": "code",
      "source": [
        "def power1(x,n):\n",
        "  # compute x**n\n",
        "  if n==0: return 1\n",
        "  else: return x*power1(x,n-1)\n",
        "  \n",
        "def power2(x,n):\n",
        "  if n==0: return 1\n",
        "  else:\n",
        "    partial = power2(x,n//2)\n",
        "    result = partial * partial\n",
        "    if n%2==1:\n",
        "      result *= x\n",
        "    return result\n",
        "  \n",
        "  \n",
        "  \n",
        "print(power1(2,10))\n",
        "print(power2(2,10))"
      ],
      "execution_count": 68,
      "outputs": [
        {
          "output_type": "stream",
          "text": [
            "1024\n",
            "1024\n"
          ],
          "name": "stdout"
        }
      ]
    },
    {
      "metadata": {
        "id": "yD0RBQHmeFkY",
        "colab_type": "text"
      },
      "cell_type": "markdown",
      "source": [
        ""
      ]
    }
  ]
}