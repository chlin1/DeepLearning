{
  "nbformat": 4,
  "nbformat_minor": 0,
  "metadata": {
    "colab": {
      "name": "Reinforcement_learning.ipynb",
      "version": "0.3.2",
      "provenance": [],
      "include_colab_link": true
    },
    "kernelspec": {
      "name": "python3",
      "display_name": "Python 3"
    }
  },
  "cells": [
    {
      "cell_type": "markdown",
      "metadata": {
        "id": "view-in-github",
        "colab_type": "text"
      },
      "source": [
        "<a href=\"https://colab.research.google.com/github/chlin1/test/blob/master/Reinforcement_learning.ipynb\" target=\"_parent\"><img src=\"https://colab.research.google.com/assets/colab-badge.svg\" alt=\"Open In Colab\"/></a>"
      ]
    },
    {
      "metadata": {
        "id": "9towHgjbCAZw",
        "colab_type": "text"
      },
      "cell_type": "markdown",
      "source": [
        "# Reinforcement learning"
      ]
    },
    {
      "metadata": {
        "id": "btye2XZkCJ2S",
        "colab_type": "text"
      },
      "cell_type": "markdown",
      "source": [
        " 10 states and 2 actions \\\n",
        " 10 states: Consider 10 tiles with a hole in tile-0 and a beer in tile-6\\\n",
        " 2 actions: move left or move right \\\n",
        " get reward - 100 if hit the hole from 1+left and 100 if hit the beer from 5+right mor 7+left \\\n",
        " \n",
        " "
      ]
    },
    {
      "metadata": {
        "id": "yVeFCPRxB_6e",
        "colab_type": "code",
        "colab": {}
      },
      "cell_type": "code",
      "source": [
        "# 10 states x 2 actions\n",
        "environment_matrix = [[None, 0],\n",
        "                  [-100, 0],\n",
        "                  [0, 0],\n",
        "                  [0, 0],\n",
        "                  [0, 0],\n",
        "                  [0, 100],\n",
        "                  [0, 0],\n",
        "                  [100, 0],\n",
        "                  [0, 0],\n",
        "                  [0, None]]\n",
        "\n",
        "# quality matrix\n",
        "q_matrix = [[0, 0],\n",
        "      [0, 0],\n",
        "      [0, 0],\n",
        "      [0, 0],\n",
        "      [0, 0],\n",
        "      [0, 0],\n",
        "      [0, 0],\n",
        "      [0, 0],\n",
        "      [0, 0],\n",
        "      [0, 0]]"
      ],
      "execution_count": 0,
      "outputs": []
    },
    {
      "metadata": {
        "id": "KT_X6KYTDSDk",
        "colab_type": "text"
      },
      "cell_type": "markdown",
      "source": [
        ""
      ]
    },
    {
      "metadata": {
        "id": "WvzpQ3XuDTDf",
        "colab_type": "code",
        "colab": {}
      },
      "cell_type": "code",
      "source": [
        "win_loss_states = [0,6]\n",
        "\n",
        "# input current state and it will return all possible actions\n",
        "# for state 0/ 9 only right/ left action\n",
        "def getAllPossibleNextAction(cur_pos):\n",
        "    step_matrix = [x != None for x in environment_matrix[cur_pos]]\n",
        "    action = []\n",
        "    if(step_matrix[0]):\n",
        "        action.append(0)    \n",
        "    if(step_matrix[1]):\n",
        "        action.append(1)\n",
        "    return(action)\n",
        "  \n",
        "# if current state is 6, it returns True  \n",
        "def isGoalStateReached(cur_pos):\n",
        "    return (cur_pos in [6])\n",
        "  \n",
        "# input current state and the action and it will return the next state  \n",
        "def getNextState(cur_pos, action):\n",
        "    if (action == 0):\n",
        "        return cur_pos - 1\n",
        "    else:\n",
        "        return cur_pos + 1\n",
        "      \n",
        "# if state is 0 or 6, the game is over and return True      \n",
        "def isGameOver(cur_pos):\n",
        "    return cur_pos in win_loss_states"
      ],
      "execution_count": 0,
      "outputs": []
    },
    {
      "metadata": {
        "id": "WoCCNS9hNabw",
        "colab_type": "code",
        "colab": {
          "base_uri": "https://localhost:8080/"
        },
        "outputId": "3fc762bc-d99d-4188-ae26-c4bfb60acb2d"
      },
      "cell_type": "code",
      "source": [
        "1+1"
      ],
      "execution_count": 15,
      "outputs": [
        {
          "output_type": "execute_result",
          "data": {
            "text/plain": [
              "2"
            ]
          },
          "metadata": {
            "tags": []
          },
          "execution_count": 15
        }
      ]
    },
    {
      "metadata": {
        "id": "OkAHqf3NNcg-",
        "colab_type": "code",
        "colab": {}
      },
      "cell_type": "code",
      "source": [
        ""
      ],
      "execution_count": 0,
      "outputs": []
    }
  ]
}